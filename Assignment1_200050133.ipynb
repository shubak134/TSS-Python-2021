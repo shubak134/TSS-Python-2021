{
  "nbformat": 4,
  "nbformat_minor": 0,
  "metadata": {
    "colab": {
      "name": "Untitled1.ipynb",
      "provenance": [],
      "collapsed_sections": []
    },
    "kernelspec": {
      "name": "python3",
      "display_name": "Python 3"
    },
    "language_info": {
      "name": "python"
    }
  },
  "cells": [
    {
      "cell_type": "code",
      "metadata": {
        "id": "qKB5OIsHZevi",
        "colab": {
          "base_uri": "https://localhost:8080/"
        },
        "outputId": "fde49715-7c77-48b3-d7c5-d2c306e2e726"
      },
      "source": [
        "File = open(\"HarryPotterAndTheSorcerersStone.txt\",'r',encoding='utf8')     #This helps in opening the file which is to be read\n",
        "DictionaryOfWords = {}         #Dictionary mapping every word to a list (of indices of the words' occurences)\n",
        "Novel = []                     #List of all words in the order, in which they appear!\n",
        "\n",
        "\n",
        "\n",
        "i = 0                   #Counter Variable to keep track of index of words\n",
        "\n",
        "for line in File.readlines():     #Iterate over all lines present in the text\n",
        "    \n",
        "    #Look at Python's Conciseness!\n",
        "    \n",
        "    line = line.replace(\".\",\"\").replace(\",\",\"\").replace('?','').replace('!','').replace('[','').replace(']','')\\\n",
        "    .replace('(','').replace(')','').replace('%','').replace('/','')\n",
        "      \n",
        "    #COMPLETE THE CODE FROM HERE:\n",
        "    \n",
        "    #This would split the line into many different words, and iterate over these words\n",
        "    \n",
        "    for wordi in line.split(' '): \n",
        "                                                                             \n",
        "        if wordi in DictionaryOfWords.keys():     #If the word is already present in the dictionary\n",
        "                                                                             \n",
        "            DictionaryOfWords[wordi]=DictionaryOfWords[wordi]+[i]        #Add the index into the pre-existing list for this word\n",
        "                                                                             \n",
        "        else:\n",
        "            DictionaryOfWords[wordi]=[i]       #Create a new list of indices for this word, with a single element\n",
        "                                                                             \n",
        "        \n",
        "        Novel.append(wordi)        #Add the Word in the Novel's ordered list of words\n",
        "                                                                             \n",
        "        i+=1\n",
        "        #COMPLETE THE CODE FROM HERE:\n",
        "\n",
        "def GetQuery():\n",
        "   \n",
        "    word = input(\"Enter the word you want to query for: \")        #Get Input from the user regarding what word s/he wants to query for\n",
        "\n",
        "    Number = int(input(\"Enter the number of results you want: \") )    #Get Input from the user regarding how many results the user wants to see\n",
        "\n",
        "    return (word,Number)                 #Return as output a tuple of the word and the Number of results\n",
        "\n",
        "def PrintContext(index):\n",
        "    \n",
        "    global Novel                          #Declares the list Novel as a Global Variable\n",
        "    \n",
        "    #COMPLETE THE CODE FROM HERE:\n",
        "    \n",
        "    for i in range(index-5,index+6) :           #Define the range so that the task above is fulfilled\n",
        "        \n",
        "        print(Novel[i], end = ' ')          #Print the word (using List Indexing) with a space after that\n",
        "        \n",
        "    print('\\n')\n",
        "\n",
        "def PrintResult(word, NumQuery):\n",
        "  \n",
        "    global DictionaryOfWords                #Allows us to use the Dictionary as a global variable\n",
        "    \n",
        "    #COMPLETE THE CODE FROM HERE:\n",
        "    \n",
        "    L = DictionaryOfWords[word] \n",
        "    \n",
        "    for i in range(0,min(len(L),NumQuery)):\n",
        "        \n",
        "        PrintContext(L[i])             #Actually print the words surrounding the ith occurence of the given word\n",
        "while 1>0 :   \n",
        "    \n",
        "  Choice = input('Press Y in order to Continue with the next query or N to end.  Please press Enter after entering your choice! ')\n",
        "    \n",
        "    #COMPLETE THE CODE FROM HERE:\n",
        "    \n",
        "  if Choice== 'Y' :                     # If the user wants to query \n",
        "\n",
        "    query= GetQuery()\n",
        "    PrintResult(query[0],query[1])\n",
        "        \n",
        "                            #Use some of the past defined function to do so\n",
        "        \n",
        "  else:\n",
        "        \n",
        "      break                                 #Else end the loop"
      ],
      "execution_count": 7,
      "outputs": [
        {
          "output_type": "stream",
          "text": [
            "Press Y in order to Continue with the next query or N to end.  Please press Enter after entering your choice! Y\n",
            "Enter the word you want to query for: Harry\n",
            "Enter the number of results you want: 3\n",
            "\n",
            " “— yes their son Harry —”\n",
            " \n",
            " Mr Dursley stopped \n",
            "\n",
            "who had a son called Harry Come to think of it \n",
            "\n",
            "sure his nephew was called Harry He’d never even seen the \n",
            "\n",
            "Press Y in order to Continue with the next query or N to end.  Please press Enter after entering your choice! N\n"
          ],
          "name": "stdout"
        }
      ]
    }
  ]
}